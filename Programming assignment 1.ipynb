{
 "cells": [
  {
   "cell_type": "markdown",
   "id": "23ae8dec",
   "metadata": {},
   "source": [
    "1) Write a python program to print \"Hello Python\"?"
   ]
  },
  {
   "cell_type": "code",
   "execution_count": 1,
   "id": "dc06cc39",
   "metadata": {},
   "outputs": [
    {
     "name": "stdout",
     "output_type": "stream",
     "text": [
      "Hello Python\n"
     ]
    }
   ],
   "source": [
    "print(\"Hello Python\")"
   ]
  },
  {
   "cell_type": "markdown",
   "id": "821f6290",
   "metadata": {},
   "source": [
    "2) Write a python program to do arithmetical operations addition & division?"
   ]
  },
  {
   "cell_type": "code",
   "execution_count": 3,
   "id": "a1f191c5",
   "metadata": {},
   "outputs": [
    {
     "name": "stdout",
     "output_type": "stream",
     "text": [
      "20\n",
      "1.0\n"
     ]
    }
   ],
   "source": [
    "a = 10\n",
    "b = 10\n",
    "print(a+b)\n",
    "print(a/b)"
   ]
  },
  {
   "cell_type": "markdown",
   "id": "633890af",
   "metadata": {},
   "source": [
    "3) Write a python program to find the area of a triangle?"
   ]
  },
  {
   "cell_type": "code",
   "execution_count": 12,
   "id": "37f7c42f",
   "metadata": {},
   "outputs": [],
   "source": [
    "h = 8\n",
    "b = 16\n",
    "\"Area of triangle\"\n",
    "a = 0.5*b*h"
   ]
  },
  {
   "cell_type": "code",
   "execution_count": 13,
   "id": "f8341b70",
   "metadata": {},
   "outputs": [
    {
     "data": {
      "text/plain": [
       "64.0"
      ]
     },
     "execution_count": 13,
     "metadata": {},
     "output_type": "execute_result"
    }
   ],
   "source": [
    "a"
   ]
  },
  {
   "cell_type": "markdown",
   "id": "a2cf5851",
   "metadata": {},
   "source": [
    "4) Write a python program to swap two variables?"
   ]
  },
  {
   "cell_type": "code",
   "execution_count": 14,
   "id": "213adbdc",
   "metadata": {},
   "outputs": [
    {
     "name": "stdout",
     "output_type": "stream",
     "text": [
      "Value of x 200\n",
      "value of y 40\n"
     ]
    }
   ],
   "source": [
    "x = 40\n",
    "y = 200\n",
    "x,y = y,x\n",
    "print(\"Value of x\",x)\n",
    "print(\"value of y\",y)"
   ]
  },
  {
   "cell_type": "markdown",
   "id": "c6530b70",
   "metadata": {},
   "source": [
    "5) Write a python program to generate random number?"
   ]
  },
  {
   "cell_type": "code",
   "execution_count": 21,
   "id": "055ef0ac",
   "metadata": {},
   "outputs": [
    {
     "name": "stdout",
     "output_type": "stream",
     "text": [
      "98\n"
     ]
    }
   ],
   "source": [
    "import random\n",
    "n = random.randint(50,100)\n",
    "print(n)\n",
    "    "
   ]
  },
  {
   "cell_type": "code",
   "execution_count": null,
   "id": "6cdb5208",
   "metadata": {},
   "outputs": [],
   "source": []
  }
 ],
 "metadata": {
  "kernelspec": {
   "display_name": "Python 3 (ipykernel)",
   "language": "python",
   "name": "python3"
  },
  "language_info": {
   "codemirror_mode": {
    "name": "ipython",
    "version": 3
   },
   "file_extension": ".py",
   "mimetype": "text/x-python",
   "name": "python",
   "nbconvert_exporter": "python",
   "pygments_lexer": "ipython3",
   "version": "3.9.7"
  }
 },
 "nbformat": 4,
 "nbformat_minor": 5
}
